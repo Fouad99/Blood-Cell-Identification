{
 "cells": [
  {
   "cell_type": "code",
   "execution_count": 2,
   "id": "passing-museum",
   "metadata": {
    "pycharm": {
     "name": "#%%\n"
    }
   },
   "outputs": [],
   "source": [
    "import imageio\n",
    "import numpy as np\n",
    "import matplotlib.pyplot as plt\n",
    "from skimage import morphology, filters, segmentation, measure, transform\n",
    "import matplotlib.patches as mpatches\n",
    "from skimage.color import label2rgb\n",
    "from sklearn import cluster"
   ]
  },
  {
   "cell_type": "code",
   "execution_count": 136,
   "id": "written-seminar",
   "metadata": {
    "pycharm": {
     "name": "#%%\n"
    }
   },
   "outputs": [
    {
     "name": "stdout",
     "output_type": "stream",
     "text": [
      "Le nombre de cellules estime de cette image est de 255 cellules.\n"
     ]
    }
   ],
   "source": [
    "image2 = imageio.imread(\"tp4_ex2.tif\")\n",
    "image2_norm = (image2 / 255).astype(float)\n",
    "nb = 0\n",
    "\n",
    "\n",
    "# seuillage par methode otsu\n",
    "threshold = filters.threshold_otsu(image2_norm)\n",
    "image2_segmented = image2_norm > threshold\n",
    "\n",
    "\n",
    "# Creation d'un element structurant 3 x 3 en forme de disque (apres des recherches, ce kernel semble approprie)\n",
    "h2 = morphology.disk(2)\n",
    "\n",
    "# appliquer une fermeture afin de remplir d'eventuels trous\n",
    "image2_closing =  morphology.closing(image2_segmented, h2)\n",
    "\n",
    "# Etiqueter (label) les cellules\n",
    "image2_labeled = measure.label(image2_closing)\n",
    "\n",
    "# nombre minimum admis de pixels par cellules (apres multiples tentatives, ce chiffre correspond au nombre\n",
    "# le plus optimal afin de detecter le maximum de cellules)\n",
    "limit_region = 5\n",
    "\n",
    "# boucler sur les cellules detectees afin d'en trouver le nombre\n",
    "for region in measure.regionprops(image2_labeled):\n",
    "    if region.area >= limit_region:\n",
    "        nb+=1\n",
    "\n",
    "        \n",
    "'''\n",
    "    Cette section est la pour demontrer les differentes etapes Decommenter pour voir \n",
    "    le cheminement de la solution\n",
    "    \n",
    "# affichage\n",
    "plt.figure(figsize=(15,15))\n",
    "plt.subplot(121); plt.imshow(image2_segmented, cmap='gray');plt.title('image segmented')\n",
    "plt.subplot(122); plt.imshow(image2_closing, cmap='gray');plt.title('image closing')\n",
    "plt.show()\n",
    "'''\n",
    "        \n",
    "\n",
    "# verification afin de savoir si le pluriel devrait etre utilise ou pas selon le nombre de cellule\n",
    "\n",
    "mot = 'cellules.' if nb > 1 else 'cellule.'\n",
    "        \n",
    "print('Le nombre de cellules estimées de cette image est de ' + str(nb) + ' ' + mot)\n"
   ]
  },
  {
   "cell_type": "code",
   "execution_count": null,
   "id": "90b32e35",
   "metadata": {},
   "outputs": [],
   "source": []
  }
 ],
 "metadata": {
  "kernelspec": {
   "display_name": "Python 3 (ipykernel)",
   "language": "python",
   "name": "python3"
  },
  "language_info": {
   "codemirror_mode": {
    "name": "ipython",
    "version": 3
   },
   "file_extension": ".py",
   "mimetype": "text/x-python",
   "name": "python",
   "nbconvert_exporter": "python",
   "pygments_lexer": "ipython3",
   "version": "3.7.11"
  },
  "toc": {
   "base_numbering": 1,
   "nav_menu": {},
   "number_sections": false,
   "sideBar": true,
   "skip_h1_title": false,
   "title_cell": "Table of Contents",
   "title_sidebar": "Contents",
   "toc_cell": false,
   "toc_position": {},
   "toc_section_display": true,
   "toc_window_display": false
  }
 },
 "nbformat": 4,
 "nbformat_minor": 5
}
